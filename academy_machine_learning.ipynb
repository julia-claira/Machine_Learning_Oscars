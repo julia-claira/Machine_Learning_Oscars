{
 "cells": [
  {
   "cell_type": "code",
   "execution_count": 1,
   "metadata": {},
   "outputs": [],
   "source": [
    "import pandas as pd"
   ]
  },
  {
   "cell_type": "code",
   "execution_count": 2,
   "metadata": {},
   "outputs": [
    {
     "data": {
      "text/html": [
       "<div>\n",
       "<style scoped>\n",
       "    .dataframe tbody tr th:only-of-type {\n",
       "        vertical-align: middle;\n",
       "    }\n",
       "\n",
       "    .dataframe tbody tr th {\n",
       "        vertical-align: top;\n",
       "    }\n",
       "\n",
       "    .dataframe thead th {\n",
       "        text-align: right;\n",
       "    }\n",
       "</style>\n",
       "<table border=\"1\" class=\"dataframe\">\n",
       "  <thead>\n",
       "    <tr style=\"text-align: right;\">\n",
       "      <th></th>\n",
       "      <th>year_film</th>\n",
       "      <th>year_ceremony</th>\n",
       "      <th>ceremony</th>\n",
       "      <th>category</th>\n",
       "      <th>name</th>\n",
       "      <th>film</th>\n",
       "      <th>winner</th>\n",
       "    </tr>\n",
       "  </thead>\n",
       "  <tbody>\n",
       "    <tr>\n",
       "      <th>0</th>\n",
       "      <td>1927</td>\n",
       "      <td>1928</td>\n",
       "      <td>1</td>\n",
       "      <td>ACTOR</td>\n",
       "      <td>Richard Barthelmess</td>\n",
       "      <td>The Noose</td>\n",
       "      <td>False</td>\n",
       "    </tr>\n",
       "    <tr>\n",
       "      <th>1</th>\n",
       "      <td>1927</td>\n",
       "      <td>1928</td>\n",
       "      <td>1</td>\n",
       "      <td>ACTOR</td>\n",
       "      <td>Emil Jannings</td>\n",
       "      <td>The Last Command</td>\n",
       "      <td>True</td>\n",
       "    </tr>\n",
       "    <tr>\n",
       "      <th>2</th>\n",
       "      <td>1927</td>\n",
       "      <td>1928</td>\n",
       "      <td>1</td>\n",
       "      <td>ACTRESS</td>\n",
       "      <td>Louise Dresser</td>\n",
       "      <td>A Ship Comes In</td>\n",
       "      <td>False</td>\n",
       "    </tr>\n",
       "    <tr>\n",
       "      <th>3</th>\n",
       "      <td>1927</td>\n",
       "      <td>1928</td>\n",
       "      <td>1</td>\n",
       "      <td>ACTRESS</td>\n",
       "      <td>Janet Gaynor</td>\n",
       "      <td>7th Heaven</td>\n",
       "      <td>True</td>\n",
       "    </tr>\n",
       "    <tr>\n",
       "      <th>4</th>\n",
       "      <td>1927</td>\n",
       "      <td>1928</td>\n",
       "      <td>1</td>\n",
       "      <td>ACTRESS</td>\n",
       "      <td>Gloria Swanson</td>\n",
       "      <td>Sadie Thompson</td>\n",
       "      <td>False</td>\n",
       "    </tr>\n",
       "  </tbody>\n",
       "</table>\n",
       "</div>"
      ],
      "text/plain": [
       "   year_film  year_ceremony  ceremony category                 name  \\\n",
       "0       1927           1928         1    ACTOR  Richard Barthelmess   \n",
       "1       1927           1928         1    ACTOR        Emil Jannings   \n",
       "2       1927           1928         1  ACTRESS       Louise Dresser   \n",
       "3       1927           1928         1  ACTRESS         Janet Gaynor   \n",
       "4       1927           1928         1  ACTRESS       Gloria Swanson   \n",
       "\n",
       "               film  winner  \n",
       "0         The Noose   False  \n",
       "1  The Last Command    True  \n",
       "2   A Ship Comes In   False  \n",
       "3        7th Heaven    True  \n",
       "4    Sadie Thompson   False  "
      ]
     },
     "execution_count": 2,
     "metadata": {},
     "output_type": "execute_result"
    }
   ],
   "source": [
    "#import the database (from Kaggle)\n",
    "academy_db=pd.read_csv(\"Resources/the_oscar_award.csv\")\n",
    "academy_db.head()"
   ]
  },
  {
   "cell_type": "markdown",
   "metadata": {},
   "source": [
    "--------------------DATA CLEANING--------------------"
   ]
  },
  {
   "cell_type": "code",
   "execution_count": 3,
   "metadata": {},
   "outputs": [
    {
     "data": {
      "text/plain": [
       "['MUSIC (Song)',\n",
       " 'MUSIC (Song--Original for the Picture)',\n",
       " 'MUSIC (Original Song)',\n",
       " 'MUSIC (Original Song Score)',\n",
       " 'MUSIC (Original Song Score and Its Adaptation or Adaptation Score)']"
      ]
     },
     "execution_count": 3,
     "metadata": {},
     "output_type": "execute_result"
    }
   ],
   "source": [
    "#award names changed over the years so combined similar awards\n",
    "award_combine={'WRITING ORIGINAL':[ 'WRITING (Motion Picture Story)','WRITING (Original Screenplay)',\n",
    "            'WRITING (Original Motion Picture Story)','WRITING (Story and Screenplay--written directly for the screen)',\n",
    "            'WRITING (Story and Screenplay)','WRITING (Story and Screenplay--based on factual material or material not previously published or produced)',\n",
    "            'WRITING (Screenplay Written Directly for the Screen--based on factual material or on story material not previously published or produced)',\n",
    "            'WRITING (Story and Screenplay--based on material not previously published or produced)', 'WRITING (Screenplay)',\n",
    "            'WRITING (Original Story)','WRITING (Screenplay--Original)','WRITING (Screenplay Written Directly for the Screen)',\n",
    "            'WRITING'],\n",
    "        'WRITING ADAPTED':['WRITING (Adaptation)', 'WRITING (Adapted Screenplay)', 'WRITING (Screenplay--based on material from another medium)',\n",
    "            'WRITING (Screenplay Based on Material Previously Produced or Published)',\n",
    "            'WRITING (Screenplay--Adapted)', 'WRITING (Screenplay Based on Material from Another Medium)',\n",
    "            'WRITING (Screenplay Adapted from Other Material)'],\n",
    "        'ACTOR':['ACTOR','ACTOR IN A LEADING ROLE'],\n",
    "        'ACTRESS':['ACTRESS','ACTRESS IN A LEADING ROLE'],\n",
    "        'BEST PICTURE':['BEST MOTION PICTURE','OUTSTANDING MOTION PICTURE','OUTSTANDING PRODUCTION', \n",
    "                        'OUTSTANDING PICTURE','BEST PICTURE'],\n",
    "        'DIRECTING':['DIRECTING (Comedy Picture)', 'DIRECTING (Dramatic Picture)','DIRECTING'], \n",
    "        'COSTUME DESIGN':['COSTUME DESIGN (Black-and-White)', 'COSTUME DESIGN (Color)'],\n",
    "            'MUSIC SCORE':['MUSIC (Scoring of Music--adaptation or treatment)','MUSIC (Original Music Score)',\n",
    "           'MUSIC (Original Score--for a motion picture [not a musical])',\n",
    "           'MUSIC (Score of a Musical Picture--original or adaptation)',\n",
    "            'MUSIC (Music Score of a Dramatic or Comedy Picture)','MUSIC (Music Score of a Dramatic Picture)',\n",
    "            'MUSIC (Scoring of a Musical Picture)','MUSIC (Original Dramatic Score)','MUSIC (Original Musical or Comedy Score)',\n",
    "            'MUSIC (Original Score)','MUSIC (Scoring)',\n",
    "            'MUSIC (Original Song Score and Its Adaptation -or- Adaptation Score)',\n",
    "           'MUSIC (Scoring: Adaptation and Original Song Score)',\n",
    "            'MUSIC (Scoring: Original Song Score and Adaptation -or- Scoring: Adaptation)',\n",
    "            'MUSIC (Music Score--substantially original)','MUSIC (Adaptation Score)',\n",
    "            'MUSIC (Original Song Score or Adaptation Score)'],  \n",
    "        'CINEMATOGRAPHY':['CINEMATOGRAPHY (Black-and-White)',\n",
    "           'CINEMATOGRAPHY (Color)','CINEMATOGRAPHY'],\n",
    "        'PRODUCTION DESIGN':['PRODUCTION DESIGN','ART DIRECTION (Black-and-White)', 'ART DIRECTION (Color)','ART DIRECTION'],\n",
    "        'SOUND EDITING':['SOUND','SOUND EFFECTS','SOUND EDITING','SOUND EFFECTS EDITING'],\n",
    "        'SPECIAL EFFECTS':['SPECIAL VISUAL EFFECTS','SPECIAL EFFECTS', 'VISUAL EFFECTS'],\n",
    "        'SOUND MIXING':['SOUND RECORDING', 'SOUND MIXING'],\n",
    "        'MAKEUP':['MAKEUP', 'MAKEUP AND HAIRSTYLING'],\n",
    "        'SONG ORIGINAL':['MUSIC (Song)','MUSIC (Song--Original for the Picture)',\n",
    "                          'MUSIC (Original Song)','MUSIC (Original Song Score)',\n",
    "                         'MUSIC (Original Song Score and Its Adaptation or Adaptation Score)',\n",
    "                        ]\n",
    "        \n",
    "        }\n",
    "award_combine['SONG ORIGINAL']\n"
   ]
  },
  {
   "cell_type": "code",
   "execution_count": 4,
   "metadata": {},
   "outputs": [],
   "source": [
    "#drop the following categories\n",
    "indexNames = academy_db.loc[(academy_db['category'] == 'DOCUMENTARY (Short Subject)') |\n",
    "                        (academy_db['category'] == 'SPECIAL AWARD') | \n",
    "                            (academy_db['category'] =='SHORT SUBJECT (Cartoon)') |\n",
    "                          (academy_db['category'] == 'SHORT SUBJECT (Comedy)') |\n",
    "                           (academy_db['category'] == 'SHORT SUBJECT (Novelty)')|\n",
    "                           (academy_db['category'] == 'SHORT SUBJECT (Color)')|\n",
    "                           (academy_db['category'] == 'SHORT SUBJECT (One-reel)')|\n",
    "                           (academy_db['category'] ==  'SHORT SUBJECT (Two-reel)')|\n",
    "                           (academy_db['category'] == 'IRVING G. THALBERG MEMORIAL AWARD')|\n",
    "                           (academy_db['category'] ==  'DOCUMENTARY (Short Subject)')|\n",
    "                           (academy_db['category'] == 'SPECIAL FOREIGN LANGUAGE FILM AWARD')|\n",
    "                           (academy_db['category'] == 'HONORARY FOREIGN LANGUAGE FILM AWARD')|\n",
    "                           (academy_db['category'] == 'HONORARY AWARD')|\n",
    "                           (academy_db['category'] == 'DOCUMENTARY')|\n",
    "                           (academy_db['category'] == 'DOCUMENTARY (Feature)')|\n",
    "                           (academy_db['category'] == 'JEAN HERSHOLT HUMANITARIAN AWARD')|\n",
    "                            (academy_db['category'] == 'SHORT SUBJECT (Live Action)')|\n",
    "                            (academy_db['category'] == 'SHORT SUBJECT (Animated)')|\n",
    "                            (academy_db['category'] == 'SPECIAL ACHIEVEMENT AWARD (Visual Effects)')|\n",
    "                            (academy_db['category'] == 'SHORT FILM (Animated)')|\n",
    "                            (academy_db['category'] == 'SHORT FILM (Live Action)')|\n",
    "                           (academy_db['category'] == 'SPECIAL ACHIEVEMENT AWARD (Sound Effects)')|\n",
    "                           (academy_db['category'] == 'SPECIAL ACHIEVEMENT AWARD (Sound Editing)')|\n",
    "                           (academy_db['category'] == 'SHORT FILM (Dramatic Live Action)')|\n",
    "                           (academy_db['category'] == 'ANIMATED FEATURE FILM')|\n",
    "                           (academy_db['category'] == 'INTERNATIONAL FEATURE FILM')].index\n",
    "\n",
    "#indexNames = df[~(df['name'] == 'john')].index \n",
    "academy_db.drop(indexNames , inplace=True)"
   ]
  },
  {
   "cell_type": "code",
   "execution_count": 10,
   "metadata": {},
   "outputs": [
    {
     "data": {
      "text/plain": [
       "'WRITING (Story and Screenplay--written directly for the screen)'"
      ]
     },
     "execution_count": 10,
     "metadata": {},
     "output_type": "execute_result"
    }
   ],
   "source": [
    "    #LEFTOVERS   \n",
    "       'ENGINEERING EFFECTS', ,\n",
    "       'UNIQUE AND ARTISTIC PICTURE', ,\n",
    "       , 'WRITING (Title Writing)',\n",
    "       'SPECIAL AWARD', ', , ,\n",
    "        'SHORT SUBJECT (Cartoon)',\n",
    "       'SHORT SUBJECT (Comedy)', 'SHORT SUBJECT (Novelty)',\n",
    "       'ASSISTANT DIRECTOR', 'FILM EDITING', ,\n",
    "       , 'DANCE DIRECTION', \n",
    "       'ACTOR IN A SUPPORTING ROLE', 'ACTRESS IN A SUPPORTING ROLE',\n",
    "       'SHORT SUBJECT (Color)', 'SHORT SUBJECT (One-reel)',\n",
    "       'SHORT SUBJECT (Two-reel)', 'IRVING G. THALBERG MEMORIAL AWARD',\n",
    "\n",
    "       , 'DOCUMENTARY (Short Subject)',\n",
    " \n",
    "       'DOCUMENTARY',\n",
    "       ,\n",
    "       , 'DOCUMENTARY (Feature)',\n",
    "\n",
    "       \n",
    "       'SPECIAL FOREIGN LANGUAGE FILM AWARD',\n",
    "       ,\n",
    "       'HONORARY FOREIGN LANGUAGE FILM AWARD', 'HONORARY AWARD',\n",
    "       'FOREIGN LANGUAGE FILM', ,\n",
    "       'JEAN HERSHOLT HUMANITARIAN AWARD', 'COSTUME DESIGN',\n",
    "       'SHORT SUBJECT (Live Action)',\n",
    "       \n",
    "\n",
    "       ',\n",
    "       'SHORT SUBJECT (Animated)',\n",
    "       'SPECIAL ACHIEVEMENT AWARD (Visual Effects)',\n",
    "       ,\n",
    "       'SHORT FILM (Animated)', 'SHORT FILM (Live Action)',\n",
    "       ,\n",
    "      \n",
    "       'SPECIAL ACHIEVEMENT AWARD (Sound Effects)',\n",
    "        ,\n",
    "       \n",
    ",\n",
    "      , 'SPECIAL ACHIEVEMENT AWARD',\n",
    "       'SPECIAL ACHIEVEMENT AWARD (Sound Effects Editing)',\n",
    "       ,\n",
    "       \n",
    "       ,\n",
    "       'SPECIAL ACHIEVEMENT AWARD (Sound Editing)',\n",
    "       'SHORT FILM (Dramatic Live Action)', \n",
    "       ,\n",
    "       ,\n",
    "       \n",
    "       , ,\n",
    "       'ANIMATED FEATURE FILM', ,\n",
    "      ,, ,\n",
    "       'INTERNATIONAL FEATURE FILM'], dtype=object)\n"
   ]
  },
  {
   "cell_type": "code",
   "execution_count": 54,
   "metadata": {},
   "outputs": [
    {
     "data": {
      "text/plain": [
       "array(['ACTOR', 'ACTRESS', 'ART DIRECTION', 'CINEMATOGRAPHY',\n",
       "       'DIRECTING (Comedy Picture)', 'DIRECTING (Dramatic Picture)',\n",
       "       'ENGINEERING EFFECTS', 'OUTSTANDING PICTURE',\n",
       "       'UNIQUE AND ARTISTIC PICTURE', 'WRITING (Adaptation)',\n",
       "       'WRITING (Original Story)', 'WRITING (Title Writing)',\n",
       "       'SPECIAL AWARD', 'DIRECTING', 'WRITING', 'OUTSTANDING PRODUCTION',\n",
       "       'SOUND RECORDING', 'SHORT SUBJECT (Cartoon)',\n",
       "       'SHORT SUBJECT (Comedy)', 'SHORT SUBJECT (Novelty)',\n",
       "       'ASSISTANT DIRECTOR', 'FILM EDITING', 'MUSIC (Scoring)',\n",
       "       'MUSIC (Song)', 'DANCE DIRECTION', 'WRITING (Screenplay)',\n",
       "       'ACTOR IN A SUPPORTING ROLE', 'ACTRESS IN A SUPPORTING ROLE',\n",
       "       'SHORT SUBJECT (Color)', 'SHORT SUBJECT (One-reel)',\n",
       "       'SHORT SUBJECT (Two-reel)', 'IRVING G. THALBERG MEMORIAL AWARD',\n",
       "       'MUSIC (Original Score)', 'CINEMATOGRAPHY (Black-and-White)',\n",
       "       'CINEMATOGRAPHY (Color)', 'SPECIAL EFFECTS',\n",
       "       'ART DIRECTION (Black-and-White)', 'ART DIRECTION (Color)',\n",
       "       'WRITING (Original Screenplay)', 'DOCUMENTARY (Short Subject)',\n",
       "       'MUSIC (Music Score of a Dramatic Picture)',\n",
       "       'MUSIC (Scoring of a Musical Picture)',\n",
       "       'OUTSTANDING MOTION PICTURE', 'DOCUMENTARY',\n",
       "       'MUSIC (Music Score of a Dramatic or Comedy Picture)',\n",
       "       'WRITING (Original Motion Picture Story)', 'DOCUMENTARY (Feature)',\n",
       "       'BEST MOTION PICTURE', 'WRITING (Motion Picture Story)',\n",
       "       'COSTUME DESIGN (Black-and-White)', 'COSTUME DESIGN (Color)',\n",
       "       'SPECIAL FOREIGN LANGUAGE FILM AWARD',\n",
       "       'WRITING (Story and Screenplay)',\n",
       "       'HONORARY FOREIGN LANGUAGE FILM AWARD', 'HONORARY AWARD',\n",
       "       'FOREIGN LANGUAGE FILM', 'WRITING (Screenplay--Adapted)',\n",
       "       'WRITING (Screenplay--Original)',\n",
       "       'JEAN HERSHOLT HUMANITARIAN AWARD', 'COSTUME DESIGN',\n",
       "       'SHORT SUBJECT (Live Action)',\n",
       "       'WRITING (Screenplay--based on material from another medium)',\n",
       "       'WRITING (Story and Screenplay--written directly for the screen)',\n",
       "       'SOUND', 'MUSIC (Music Score--substantially original)',\n",
       "       'MUSIC (Scoring of Music--adaptation or treatment)',\n",
       "       'BEST PICTURE', 'SOUND EFFECTS', 'SPECIAL VISUAL EFFECTS',\n",
       "       'MUSIC (Original Music Score)',\n",
       "       'MUSIC (Original Score--for a motion picture [not a musical])',\n",
       "       'MUSIC (Score of a Musical Picture--original or adaptation)',\n",
       "       'MUSIC (Song--Original for the Picture)',\n",
       "       'WRITING (Story and Screenplay--based on material not previously published or produced)',\n",
       "       'MUSIC (Original Song Score)',\n",
       "       'WRITING (Story and Screenplay--based on factual material or material not previously published or produced)',\n",
       "       'MUSIC (Original Dramatic Score)',\n",
       "       'MUSIC (Scoring: Adaptation and Original Song Score)',\n",
       "       'SHORT SUBJECT (Animated)',\n",
       "       'SPECIAL ACHIEVEMENT AWARD (Visual Effects)',\n",
       "       'MUSIC (Scoring: Original Song Score and Adaptation -or- Scoring: Adaptation)',\n",
       "       'SHORT FILM (Animated)', 'SHORT FILM (Live Action)',\n",
       "       'WRITING (Screenplay Adapted from Other Material)',\n",
       "       'MUSIC (Original Song)',\n",
       "       'SPECIAL ACHIEVEMENT AWARD (Sound Effects)',\n",
       "       'ACTOR IN A LEADING ROLE', 'ACTRESS IN A LEADING ROLE',\n",
       "       'MUSIC (Original Song Score and Its Adaptation or Adaptation Score)',\n",
       "       'WRITING (Screenplay Written Directly for the Screen--based on factual material or on story material not previously published or produced)',\n",
       "       'VISUAL EFFECTS', 'SPECIAL ACHIEVEMENT AWARD',\n",
       "       'SPECIAL ACHIEVEMENT AWARD (Sound Effects Editing)',\n",
       "       'MUSIC (Adaptation Score)',\n",
       "       'WRITING (Screenplay Based on Material from Another Medium)',\n",
       "       'WRITING (Screenplay Written Directly for the Screen)',\n",
       "       'MUSIC (Original Song Score and Its Adaptation -or- Adaptation Score)',\n",
       "       'SPECIAL ACHIEVEMENT AWARD (Sound Editing)',\n",
       "       'SHORT FILM (Dramatic Live Action)', 'MAKEUP',\n",
       "       'SOUND EFFECTS EDITING',\n",
       "       'MUSIC (Original Song Score or Adaptation Score)',\n",
       "       'WRITING (Screenplay Based on Material Previously Produced or Published)',\n",
       "       'MUSIC (Original Musical or Comedy Score)', 'SOUND EDITING',\n",
       "       'ANIMATED FEATURE FILM', 'WRITING (Adapted Screenplay)',\n",
       "       'SOUND MIXING', 'MAKEUP AND HAIRSTYLING', 'PRODUCTION DESIGN',\n",
       "       'INTERNATIONAL FEATURE FILM'], dtype=object)"
      ]
     },
     "execution_count": 54,
     "metadata": {},
     "output_type": "execute_result"
    }
   ],
   "source": []
  },
  {
   "cell_type": "code",
   "execution_count": 5,
   "metadata": {},
   "outputs": [],
   "source": [
    "#re-labels Outstanding Motion Picture to Best Picture\n",
    "academy_db['category']=academy_db['category'].replace({'OUTSTANDING MOTION PICTURE':'BEST PICTURE'})"
   ]
  },
  {
   "cell_type": "code",
   "execution_count": 6,
   "metadata": {},
   "outputs": [],
   "source": [
    "#changed value to binary\n",
    "academy_db.loc[academy_db[\"winner\"]==False,\"winner\"]=0\n",
    "academy_db.loc[academy_db[\"winner\"]==True,\"winner\"]=1"
   ]
  },
  {
   "cell_type": "code",
   "execution_count": 7,
   "metadata": {},
   "outputs": [],
   "source": [
    "#adds an empty Type Column\n",
    "academy_db[\"category_combined\"]=\"\""
   ]
  },
  {
   "cell_type": "code",
   "execution_count": 8,
   "metadata": {},
   "outputs": [],
   "source": [
    "academy_db.dropna(subset=['film'],inplace=True)"
   ]
  },
  {
   "cell_type": "code",
   "execution_count": 9,
   "metadata": {},
   "outputs": [
    {
     "name": "stderr",
     "output_type": "stream",
     "text": [
      "/opt/anaconda3/envs/PythonData/lib/python3.6/site-packages/ipykernel_launcher.py:11: SettingWithCopyWarning: \n",
      "A value is trying to be set on a copy of a slice from a DataFrame\n",
      "\n",
      "See the caveats in the documentation: https://pandas.pydata.org/pandas-docs/stable/user_guide/indexing.html#returning-a-view-versus-a-copy\n",
      "  # This is added back by InteractiveShellApp.init_path()\n",
      "/opt/anaconda3/envs/PythonData/lib/python3.6/site-packages/ipykernel_launcher.py:7: SettingWithCopyWarning: \n",
      "A value is trying to be set on a copy of a slice from a DataFrame\n",
      "\n",
      "See the caveats in the documentation: https://pandas.pydata.org/pandas-docs/stable/user_guide/indexing.html#returning-a-view-versus-a-copy\n",
      "  import sys\n"
     ]
    }
   ],
   "source": [
    "#adds the combined category value to db\n",
    "\n",
    "for j, i in academy_db.iterrows():\n",
    "    found=False\n",
    "    for x in award_combine:\n",
    "        if i['category'] in award_combine[x]:\n",
    "            academy_db['category_combined'][j]=x\n",
    "            found=True\n",
    "            break\n",
    "        if (found==False):\n",
    "            academy_db['category_combined'][j]=academy_db['category'][j]"
   ]
  },
  {
   "cell_type": "code",
   "execution_count": 12,
   "metadata": {},
   "outputs": [
    {
     "data": {
      "text/plain": [
       "'ENGINEERING EFFECTS'"
      ]
     },
     "execution_count": 12,
     "metadata": {},
     "output_type": "execute_result"
    }
   ],
   "source": [
    "academy_db['category_combined'][17]"
   ]
  },
  {
   "cell_type": "code",
   "execution_count": 10,
   "metadata": {},
   "outputs": [],
   "source": [
    "academy_db[\"award_value\"]=0"
   ]
  },
  {
   "cell_type": "code",
   "execution_count": 11,
   "metadata": {},
   "outputs": [],
   "source": [
    "#adds a weight to awards\n",
    "award_combine.keys()\n",
    "a_value=3;\n",
    "b_value=2;\n",
    "\n",
    "award_a_value={'WRITING ORIGINAL':a_value, 'WRITING ADAPTED':a_value, 'ACTOR':a_value, 'ACTRESS':a_value, 'BEST PICTURE':a_value, 'DIRECTING':a_value}\n",
    "award_b_value={'CINEMATOGRAPHY':b_value, 'PRODUCTION DESIGN':b_value,'FILM EDITING':b_value,'ACTOR IN A SUPPORTING ROLE':b_value, 'ACTRESS IN A SUPPORTING ROLE':b_value}\n"
   ]
  },
  {
   "cell_type": "code",
   "execution_count": 12,
   "metadata": {},
   "outputs": [
    {
     "data": {
      "text/plain": [
       "8416"
      ]
     },
     "execution_count": 12,
     "metadata": {},
     "output_type": "execute_result"
    }
   ],
   "source": [
    "len(academy_db)"
   ]
  },
  {
   "cell_type": "code",
   "execution_count": 13,
   "metadata": {},
   "outputs": [
    {
     "name": "stderr",
     "output_type": "stream",
     "text": [
      "/opt/anaconda3/envs/PythonData/lib/python3.6/site-packages/ipykernel_launcher.py:6: SettingWithCopyWarning: \n",
      "A value is trying to be set on a copy of a slice from a DataFrame\n",
      "\n",
      "See the caveats in the documentation: https://pandas.pydata.org/pandas-docs/stable/user_guide/indexing.html#returning-a-view-versus-a-copy\n",
      "  \n",
      "/opt/anaconda3/envs/PythonData/lib/python3.6/site-packages/ipykernel_launcher.py:8: SettingWithCopyWarning: \n",
      "A value is trying to be set on a copy of a slice from a DataFrame\n",
      "\n",
      "See the caveats in the documentation: https://pandas.pydata.org/pandas-docs/stable/user_guide/indexing.html#returning-a-view-versus-a-copy\n",
      "  \n",
      "/opt/anaconda3/envs/PythonData/lib/python3.6/site-packages/ipykernel_launcher.py:10: SettingWithCopyWarning: \n",
      "A value is trying to be set on a copy of a slice from a DataFrame\n",
      "\n",
      "See the caveats in the documentation: https://pandas.pydata.org/pandas-docs/stable/user_guide/indexing.html#returning-a-view-versus-a-copy\n",
      "  # Remove the CWD from sys.path while we load stuff.\n"
     ]
    }
   ],
   "source": [
    "#~~~!!!!!Something is clearly wrong in how the category_combined table is working\n",
    "#adds the value of award to colum\n",
    "\n",
    "for j,i in academy_db.iterrows():\n",
    "    if (i['category_combined'] in award_a_value):\n",
    "        academy_db['award_value'][j]=award_a_value[i['category_combined']]\n",
    "    elif (i['category_combined'] in award_b_value):\n",
    "        academy_db['award_value'][j]=award_b_value[i['category_combined']]\n",
    "    else:\n",
    "        academy_db['award_value'][j]=1"
   ]
  },
  {
   "cell_type": "code",
   "execution_count": 24,
   "metadata": {},
   "outputs": [
    {
     "data": {
      "text/plain": [
       "year_film             int64\n",
       "year_ceremony         int64\n",
       "ceremony              int64\n",
       "category             object\n",
       "name                 object\n",
       "film                 object\n",
       "winner               object\n",
       "category_combined    object\n",
       "award_value           int64\n",
       "dtype: object"
      ]
     },
     "execution_count": 24,
     "metadata": {},
     "output_type": "execute_result"
    }
   ],
   "source": [
    "year_db=academy_db.groupby(['film']).sum()\n",
    "year_db\n",
    "academy_db.dtypes"
   ]
  },
  {
   "cell_type": "code",
   "execution_count": 53,
   "metadata": {},
   "outputs": [
    {
     "data": {
      "text/plain": [
       "25"
      ]
     },
     "execution_count": 53,
     "metadata": {},
     "output_type": "execute_result"
    }
   ],
   "source": [
    "b=year_db['award_value']\n",
    "b['Forrest Gump']\n",
    "#year_db.index[0][0]\n",
    "#i in year_db.iterrows()\n",
    "#for x in test_db:\n",
    " #   print (test_db[x].index[20])"
   ]
  },
  {
   "cell_type": "raw",
   "metadata": {},
   "source": [
    "----------------------------Predict Best Winner---------------------------"
   ]
  },
  {
   "cell_type": "code",
   "execution_count": 2,
   "metadata": {},
   "outputs": [],
   "source": [
    "from sklearn import tree\n",
    "from sklearn.ensemble import RandomForestClassifier"
   ]
  },
  {
   "cell_type": "code",
   "execution_count": null,
   "metadata": {},
   "outputs": [],
   "source": []
  }
 ],
 "metadata": {
  "kernelspec": {
   "display_name": "Python [conda env:PythonData] *",
   "language": "python",
   "name": "conda-env-PythonData-py"
  },
  "language_info": {
   "codemirror_mode": {
    "name": "ipython",
    "version": 3
   },
   "file_extension": ".py",
   "mimetype": "text/x-python",
   "name": "python",
   "nbconvert_exporter": "python",
   "pygments_lexer": "ipython3",
   "version": "3.6.10"
  }
 },
 "nbformat": 4,
 "nbformat_minor": 4
}
